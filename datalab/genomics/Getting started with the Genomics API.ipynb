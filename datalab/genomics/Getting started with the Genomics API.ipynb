{
 "cells": [
  {
   "cell_type": "markdown",
   "metadata": {},
   "source": [
    "```\n",
    "Copyright 2015 Google Inc. All rights reserved.\n",
    "\n",
    "Licensed under the Apache License, Version 2.0 (the \"License\");\n",
    "you may not use this file except in compliance with the License.\n",
    "You may obtain a copy of the License at\n",
    "\n",
    "    http://www.apache.org/licenses/LICENSE-2.0\n",
    "\n",
    "Unless required by applicable law or agreed to in writing, software\n",
    "distributed under the License is distributed on an \"AS IS\" BASIS,\n",
    "WITHOUT WARRANTIES OR CONDITIONS OF ANY KIND, either express or implied.\n",
    "See the License for the specific language governing permissions and\n",
    "limitations under the License.\n",
    "```"
   ]
  },
  {
   "cell_type": "markdown",
   "metadata": {},
   "source": [
    "# Getting started with the Google Genomics API"
   ]
  },
  {
   "cell_type": "markdown",
   "metadata": {},
   "source": [
    "In this notebook we'll cover how to make authenticated requests to the [Google Genomics API](https://cloud.google.com/genomics/v1beta2/reference/).\n",
    "\n",
    "----\n",
    "\n",
    "NOTE:\n",
    "\n",
    "* If you're new to notebooks, or want to check out additional samples, check out the full [list](../) of general notebooks.\n",
    "* For additional Genomics samples, check out the full [list](./) of Genomics notebooks."
   ]
  },
  {
   "cell_type": "markdown",
   "metadata": {},
   "source": [
    "## Setup"
   ]
  },
  {
   "cell_type": "markdown",
   "metadata": {},
   "source": [
    "### Install Python libraries"
   ]
  },
  {
   "cell_type": "markdown",
   "metadata": {},
   "source": [
    "We'll be using the [Google Python API client](https://github.com/google/google-api-python-client) for interacting with Genomics API. We can install this library, or any other 3rd-party Python libraries from the [Python Package Index (PyPI)](https://pypi.python.org/pypi) using the `pip` package manager.\n",
    "\n",
    "There are [50+ Google APIs](http://api-python-client-doc.appspot.com/) that you can work against with the Google Python API Client, but we'll focus on the Genomics API in this notebook."
   ]
  },
  {
   "cell_type": "code",
   "execution_count": 1,
   "metadata": {
    "collapsed": false
   },
   "outputs": [
    {
     "name": "stdout",
     "output_type": "stream",
     "text": [
      "Downloading/unpacking google-api-python-client\n",
      "  Downloading google_api_python_client-1.4.2-py2.py3-none-any.whl (48kB): 48kB downloaded\n",
      "Downloading/unpacking httplib2>=0.8 from https://pypi.python.org/packages/source/h/httplib2/httplib2-0.9.2.tar.gz#md5=bd1b1445b3b2dfa7276b09b1a07b7f0e (from google-api-python-client)\n",
      "  Downloading httplib2-0.9.2.tar.gz (205kB): 205kB downloaded\n",
      "  Running setup.py (path:/tmp/pip-build-m0T4nI/httplib2/setup.py) egg_info for package httplib2\n",
      "    \n",
      "Downloading/unpacking oauth2client>=1.4.6 from https://pypi.python.org/packages/source/o/oauth2client/oauth2client-1.5.1.tar.gz#md5=cde21d8b711c91e7389d30fdccda6bcb (from google-api-python-client)\n",
      "  Downloading oauth2client-1.5.1.tar.gz (56kB): 56kB downloaded\n",
      "  Running setup.py (path:/tmp/pip-build-m0T4nI/oauth2client/setup.py) egg_info for package oauth2client\n",
      "    \n",
      "Downloading/unpacking six>=1.6.1 from https://pypi.python.org/packages/3.3/s/six/six-1.9.0-py2.py3-none-any.whl#md5=9ac7e129a80f72d6fc1f0216f6e9627b (from google-api-python-client)\n",
      "  Downloading six-1.9.0-py2.py3-none-any.whl\n",
      "Downloading/unpacking uritemplate>=0.6 (from google-api-python-client)\n",
      "  Downloading uritemplate-0.6.tar.gz\n",
      "  Running setup.py (path:/tmp/pip-build-m0T4nI/uritemplate/setup.py) egg_info for package uritemplate\n",
      "    \n",
      "Downloading/unpacking pyasn1>=0.1.7 from https://pypi.python.org/packages/3.5/p/pyasn1/pyasn1-0.1.9-py2.py3-none-any.whl#md5=0122c4548f64510b24a35353c0837198 (from oauth2client>=1.4.6->google-api-python-client)\n",
      "  Downloading pyasn1-0.1.9-py2.py3-none-any.whl\n",
      "Downloading/unpacking pyasn1-modules>=0.0.5 from https://pypi.python.org/packages/3.5/p/pyasn1-modules/pyasn1_modules-0.0.8-py2.py3-none-any.whl#md5=5f49e6da36e354e7a1f56b038eee35db (from oauth2client>=1.4.6->google-api-python-client)\n",
      "  Downloading pyasn1_modules-0.0.8-py2.py3-none-any.whl\n",
      "Requirement already up-to-date: rsa>=3.1.4 in /usr/local/lib/python2.7/dist-packages (from oauth2client>=1.4.6->google-api-python-client)\n",
      "Downloading/unpacking simplejson>=2.5.0 (from uritemplate>=0.6->google-api-python-client)\n",
      "  Downloading simplejson-3.8.0.tar.gz (75kB): 75kB downloaded\n",
      "  Running setup.py (path:/tmp/pip-build-m0T4nI/simplejson/setup.py) egg_info for package simplejson\n",
      "    \n",
      "Installing collected packages: google-api-python-client, httplib2, oauth2client, six, uritemplate, pyasn1, pyasn1-modules, simplejson\n",
      "  Found existing installation: httplib2 0.9.1\n",
      "    Uninstalling httplib2:\n",
      "      Successfully uninstalled httplib2\n",
      "  Running setup.py install for httplib2\n",
      "    \n",
      "  Found existing installation: oauth2client 1.4.12\n",
      "    Uninstalling oauth2client:\n",
      "      Successfully uninstalled oauth2client\n",
      "  Running setup.py install for oauth2client\n",
      "    \n",
      "  Found existing installation: six 1.8.0\n",
      "    Not uninstalling six at /usr/lib/python2.7/dist-packages, owned by OS\n",
      "  Running setup.py install for uritemplate\n",
      "    \n",
      "  Found existing installation: pyasn1 0.1.8\n",
      "    Uninstalling pyasn1:\n",
      "      Successfully uninstalled pyasn1\n",
      "  Found existing installation: pyasn1-modules 0.0.7\n",
      "    Uninstalling pyasn1-modules:\n",
      "      Successfully uninstalled pyasn1-modules\n",
      "  Running setup.py install for simplejson\n",
      "    building 'simplejson._speedups' extension\n",
      "    x86_64-linux-gnu-gcc -pthread -DNDEBUG -g -fwrapv -O2 -Wall -Wstrict-prototypes -fno-strict-aliasing -D_FORTIFY_SOURCE=2 -g -fstack-protector-strong -Wformat -Werror=format-security -fPIC -I/usr/include/python2.7 -c simplejson/_speedups.c -o build/temp.linux-x86_64-2.7/simplejson/_speedups.o\n",
      "    x86_64-linux-gnu-gcc -pthread -shared -Wl,-O1 -Wl,-Bsymbolic-functions -Wl,-z,relro -fno-strict-aliasing -DNDEBUG -g -fwrapv -O2 -Wall -Wstrict-prototypes -D_FORTIFY_SOURCE=2 -g -fstack-protector-strong -Wformat -Werror=format-security -Wl,-z,relro -D_FORTIFY_SOURCE=2 -g -fstack-protector-strong -Wformat -Werror=format-security build/temp.linux-x86_64-2.7/simplejson/_speedups.o -o build/lib.linux-x86_64-2.7/simplejson/_speedups.so\n",
      "    \n",
      "Successfully installed google-api-python-client httplib2 oauth2client six uritemplate pyasn1 pyasn1-modules simplejson\n",
      "Cleaning up...\n"
     ]
    }
   ],
   "source": [
    "!pip install --upgrade google-api-python-client"
   ]
  },
  {
   "cell_type": "markdown",
   "metadata": {},
   "source": [
    "### Create an Authenticated Client"
   ]
  },
  {
   "cell_type": "markdown",
   "metadata": {},
   "source": [
    "Next we construct a Python object that we can use it to make requests. \n",
    "\n",
    "The following snippet shows how we can authenticate using the service account on the DataLab host.  For more detail about authentication from Python, see [Using OAuth 2.0 for Server to Server Applications](https://developers.google.com/api-client-library/python/auth/service-accounts)."
   ]
  },
  {
   "cell_type": "code",
   "execution_count": 2,
   "metadata": {
    "collapsed": false
   },
   "outputs": [
    {
     "data": {
      "text/plain": [
       "<httplib2.Http at 0x7fb68efd9f90>"
      ]
     },
     "execution_count": 2,
     "metadata": {},
     "output_type": "execute_result"
    }
   ],
   "source": [
    "from httplib2 import Http\n",
    "from oauth2client.gce import AppAssertionCredentials\n",
    "credentials = AppAssertionCredentials(\n",
    "    'https://www.googleapis.com/auth/cloud-platform')\n",
    "http = Http()\n",
    "credentials.authorize(http)\n"
   ]
  },
  {
   "cell_type": "markdown",
   "metadata": {},
   "source": [
    "And then we create a client for the Genomics API."
   ]
  },
  {
   "cell_type": "code",
   "execution_count": 3,
   "metadata": {
    "collapsed": false
   },
   "outputs": [],
   "source": [
    "from apiclient.discovery import build\n",
    "genomics = build('genomics', 'v1beta2', http=http)"
   ]
  },
  {
   "cell_type": "markdown",
   "metadata": {},
   "source": [
    "### Send a request to the Genomics API"
   ]
  },
  {
   "cell_type": "markdown",
   "metadata": {},
   "source": [
    "Now that we have a Python client for the Genomics API, we can access a variety of different resources. For details about each available resource, see the python client [API docs here](https://google-api-client-libraries.appspot.com/documentation/genomics/v1beta2/python/latest/index.html).\n",
    "\n",
    "Using our `genomics` client, we'll demonstrate fetching a Dataset resource by ID (the [1000 Genomes dataset](http://googlegenomics.readthedocs.org/en/latest/use_cases/discover_public_data/1000_genomes.html) in this case).\n",
    "\n",
    "First, we need to construct a request object."
   ]
  },
  {
   "cell_type": "code",
   "execution_count": 4,
   "metadata": {
    "collapsed": false
   },
   "outputs": [],
   "source": [
    "request = genomics.datasets().get(datasetId='10473108253681171589')"
   ]
  },
  {
   "cell_type": "markdown",
   "metadata": {},
   "source": [
    "Next, we'll send this request to the Genomics API by calling the `request.execute()` method."
   ]
  },
  {
   "cell_type": "code",
   "execution_count": 5,
   "metadata": {
    "collapsed": false
   },
   "outputs": [],
   "source": [
    "response = request.execute()"
   ]
  },
  {
   "cell_type": "markdown",
   "metadata": {},
   "source": [
    "You will need enable the Genomics API for your project if you have not done so previously.  Click on [this link](https://console.developers.google.com/flows/enableapi?apiid=genomics) to enable the API in your project."
   ]
  },
  {
   "cell_type": "markdown",
   "metadata": {},
   "source": [
    "The response object returned is simply a Python dictionary. Let's take a look at the properties returned in the response."
   ]
  },
  {
   "cell_type": "code",
   "execution_count": 6,
   "metadata": {
    "collapsed": false
   },
   "outputs": [
    {
     "name": "stdout",
     "output_type": "stream",
     "text": [
      "isPublic => True\n",
      "id => 10473108253681171589\n",
      "name => 1000 Genomes\n",
      "projectNumber => 761052378059\n"
     ]
    }
   ],
   "source": [
    "for entry in response.items():\n",
    "    print \"%s => %s\" % entry"
   ]
  },
  {
   "cell_type": "markdown",
   "metadata": {},
   "source": [
    "Success! We can see the name of the specified Dataset and a few other pieces of metadata.\n",
    "\n",
    "Accessing other Genomics API resources will follow this same set of steps. The full [list of available resources within the API is here](https://google-api-client-libraries.appspot.com/documentation/genomics/v1beta2/python/latest/index.html). Each resource has details about the different verbs that can be applied (e.g., [Dataset methods](https://google-api-client-libraries.appspot.com/documentation/genomics/v1beta2/python/latest/genomics_v1beta2.datasets.html))."
   ]
  },
  {
   "cell_type": "markdown",
   "metadata": {},
   "source": [
    "## Access Data"
   ]
  },
  {
   "cell_type": "markdown",
   "metadata": {},
   "source": [
    "In this portion of the notebook, we implement [this same example](https://github.com/googlegenomics/getting-started-with-the-api/tree/master/python) implemented as a python script.  First let's define a few constants to use within the examples that follow."
   ]
  },
  {
   "cell_type": "code",
   "execution_count": 7,
   "metadata": {
    "collapsed": false
   },
   "outputs": [],
   "source": [
    "dataset_id = '10473108253681171589' # This is the 1000 Genomes dataset ID\n",
    "sample = 'NA12872'\n",
    "reference_name = '22'\n",
    "reference_position = 51003835"
   ]
  },
  {
   "cell_type": "markdown",
   "metadata": {},
   "source": [
    "### Get read bases for a sample at specific a position"
   ]
  },
  {
   "cell_type": "markdown",
   "metadata": {},
   "source": [
    "First find the read group set ID for the sample."
   ]
  },
  {
   "cell_type": "code",
   "execution_count": 8,
   "metadata": {
    "collapsed": false
   },
   "outputs": [],
   "source": [
    "request = genomics.readgroupsets().search(\n",
    "  body={'datasetIds': [dataset_id], 'name': sample},\n",
    "  fields='readGroupSets(id)')\n",
    "read_group_sets = request.execute().get('readGroupSets', [])\n",
    "if len(read_group_sets) != 1:\n",
    "  raise Exception('Searching for %s didn\\'t return '\n",
    "                  'the right number of read group sets' % sample)\n",
    "\n",
    "read_group_set_id = read_group_sets[0]['id']"
   ]
  },
  {
   "cell_type": "markdown",
   "metadata": {},
   "source": [
    "Once we have the read group set ID, lookup the reads at the position in which we are interested."
   ]
  },
  {
   "cell_type": "code",
   "execution_count": 9,
   "metadata": {
    "collapsed": false
   },
   "outputs": [],
   "source": [
    "request = genomics.reads().search(\n",
    "  body={'readGroupSetIds': [read_group_set_id],\n",
    "        'referenceName': reference_name,\n",
    "        'start': reference_position,\n",
    "        'end': reference_position + 1,\n",
    "        'pageSize': 1024},\n",
    "  fields='alignments(alignment,alignedSequence)')\n",
    "reads = request.execute().get('alignments', [])"
   ]
  },
  {
   "cell_type": "markdown",
   "metadata": {},
   "source": [
    "And we print out the results."
   ]
  },
  {
   "cell_type": "code",
   "execution_count": 10,
   "metadata": {
    "collapsed": false
   },
   "outputs": [
    {
     "name": "stdout",
     "output_type": "stream",
     "text": [
      "NA12872 bases on 22 at 51003835 are\n",
      "C: 1\n",
      "G: 13\n"
     ]
    }
   ],
   "source": [
    "# Note: This is simplistic - the cigar should be considered for real code\n",
    "bases = [read['alignedSequence'][\n",
    "           reference_position - int(read['alignment']['position']['position'])]\n",
    "         for read in reads]\n",
    "\n",
    "print '%s bases on %s at %d are' % (sample, reference_name, reference_position)\n",
    "\n",
    "from collections import Counter\n",
    "for base, count in Counter(bases).items():\n",
    "  print '%s: %s' % (base, count)"
   ]
  },
  {
   "cell_type": "markdown",
   "metadata": {},
   "source": [
    "### Get variants for a sample at specific a position"
   ]
  },
  {
   "cell_type": "markdown",
   "metadata": {},
   "source": [
    "First find the call set ID for the sample."
   ]
  },
  {
   "cell_type": "code",
   "execution_count": 11,
   "metadata": {
    "collapsed": false
   },
   "outputs": [],
   "source": [
    "request = genomics.callsets().search(\n",
    "  body={'variantSetIds': [dataset_id], 'name': sample},\n",
    "  fields='callSets(id)')\n",
    "resp = request.execute()\n",
    "call_sets = resp.get('callSets', [])\n",
    "if len(call_sets) != 1:\n",
    "  raise Exception('Searching for %s didn\\'t return '\n",
    "                  'the right number of call sets' % sample)\n",
    "\n",
    "call_set_id = call_sets[0]['id']"
   ]
  },
  {
   "cell_type": "markdown",
   "metadata": {},
   "source": [
    "Once we have the call set ID, lookup the variants that overlap the position in which we are interested."
   ]
  },
  {
   "cell_type": "code",
   "execution_count": 12,
   "metadata": {
    "collapsed": false
   },
   "outputs": [],
   "source": [
    "request = genomics.variants().search(\n",
    "  body={'callSetIds': [call_set_id],\n",
    "        'referenceName': reference_name,\n",
    "        'start': reference_position,\n",
    "        'end': reference_position + 1},\n",
    "  fields='variants(names,referenceBases,alternateBases,calls(genotype))')\n",
    "variant = request.execute().get('variants', [])[0]"
   ]
  },
  {
   "cell_type": "markdown",
   "metadata": {},
   "source": [
    "And we print out the results."
   ]
  },
  {
   "cell_type": "code",
   "execution_count": 13,
   "metadata": {
    "collapsed": false
   },
   "outputs": [
    {
     "name": "stdout",
     "output_type": "stream",
     "text": [
      "the called genotype is G,G for rs131767\n"
     ]
    }
   ],
   "source": [
    "variant_name = variant['names'][0]\n",
    "genotype = [variant['referenceBases'] if g == 0\n",
    "            else variant['alternateBases'][g - 1]\n",
    "            for g in variant['calls'][0]['genotype']]\n",
    "\n",
    "print 'the called genotype is %s for %s' % (','.join(genotype), variant_name)"
   ]
  }
 ],
 "metadata": {
  "kernelspec": {
   "display_name": "Python 2",
   "language": "python",
   "name": "python2"
  },
  "language_info": {
   "codemirror_mode": {
    "name": "ipython",
    "version": 2
   },
   "file_extension": ".py",
   "mimetype": "text/x-python",
   "name": "python",
   "nbconvert_exporter": "python",
   "pygments_lexer": "ipython2",
   "version": "2.7.9"
  }
 },
 "nbformat": 4,
 "nbformat_minor": 0
}
