{
 "cells": [
  {
   "cell_type": "markdown",
   "metadata": {},
   "source": [
    "```\n",
    "Copyright 2015 Google Inc. All rights reserved.\n",
    "\n",
    "Licensed under the Apache License, Version 2.0 (the \"License\");\n",
    "you may not use this file except in compliance with the License.\n",
    "You may obtain a copy of the License at\n",
    "\n",
    "    http://www.apache.org/licenses/LICENSE-2.0\n",
    "\n",
    "Unless required by applicable law or agreed to in writing, software\n",
    "distributed under the License is distributed on an \"AS IS\" BASIS,\n",
    "WITHOUT WARRANTIES OR CONDITIONS OF ANY KIND, either express or implied.\n",
    "See the License for the specific language governing permissions and\n",
    "limitations under the License.\n",
    "```"
   ]
  },
  {
   "cell_type": "markdown",
   "metadata": {},
   "source": [
    "# Genome-wide association study (GWAS)"
   ]
  },
  {
   "cell_type": "markdown",
   "metadata": {},
   "source": [
    "This notebook demonstrates conducting a genome-wide association study using the public 1000 Genomes dataset stored in BigQuery.  Specifically we will:\n",
    "* Use the `%%sql` statement to write and execute SQL statements within the notebook\n",
    "* Extract data from BigQuery and create a local dataset that can be manipulated in Python for visualization and further analysis\n",
    "\n",
    "Related Links:\n",
    "* [BigQuery](https://cloud.google.com/bigquery/)\n",
    "* BigQuery [SQL reference](https://cloud.google.com/bigquery/query-reference)\n",
    "* [1,000 Genomes Data Description](http://googlegenomics.readthedocs.org/en/latest/use_cases/discover_public_data/1000_genomes.html)\n",
    "* This notebook is based on the [Google Genomics](https://cloud.google.com/genomics/) BigQuery examples:\n",
    "    * [GWAS Chi-squared Test](https://github.com/googlegenomics/bigquery-examples/blob/master/1000genomes/sql/gwas-pattern-chi-squared-test.sql)\n",
    "    * [GWAS z-test](https://github.com/googlegenomics/bigquery-examples/blob/master/1000genomes/sql/gwas-pattern-two-proportion-z-test.sql)\n",
    "\n",
    "----\n",
    "\n",
    "NOTE:\n",
    "\n",
    "* If you're new to notebooks, or want to check out additional samples, check out the full [list](../) of general notebooks.\n",
    "* For additional Genomics samples, check out the full [list](./) of Genomics notebooks."
   ]
  },
  {
   "cell_type": "markdown",
   "metadata": {},
   "source": [
    "## Experiment design"
   ]
  },
  {
   "cell_type": "markdown",
   "metadata": {},
   "source": [
    "In this experiment, we'll be identifying variant positions within chromosome 12 that differ significantly between the case and control groups. The case group for the purposes of this notebook will be individuals from the \"EAS\" (East Asian) super population.  Variant data from the 1000 genomes dataset is publicly accessible within BigQuery. "
   ]
  },
  {
   "cell_type": "code",
   "execution_count": 1,
   "metadata": {
    "collapsed": false
   },
   "outputs": [
    {
     "data": {
      "text/html": [
       "\n",
       "    <div class=\"bqsv\" id=\"1_144435444551\"></div>\n",
       "    <script>\n",
       "      require(['extensions/bigquery', 'element!1_144435444551', 'style!/static/extensions/bigquery.css'],\n",
       "        function(bq, dom) {\n",
       "          bq.renderSchema(dom, [{\"description\": \"An identifier from the reference genome or an angle-bracketed ID String pointing to a contig in the assembly file.\", \"type\": \"STRING\", \"name\": \"reference_name\", \"mode\": \"NULLABLE\"}, {\"description\": \"The reference position, with the first base having position 0.\", \"type\": \"INTEGER\", \"name\": \"start\", \"mode\": \"NULLABLE\"}, {\"description\": \"INFO=<ID=END,Number=1,Type=Integer,Description=\\\"End position of the variant described in this record\\\">\", \"type\": \"INTEGER\", \"name\": \"end\", \"mode\": \"NULLABLE\"}, {\"description\": \"Each base must be one of A,C,G,T,N (case insensitive). Multiple bases are permitted. The value in the POS field refers to the position of the first base in the String.\", \"type\": \"STRING\", \"name\": \"reference_bases\", \"mode\": \"NULLABLE\"}, {\"description\": \"List of alternate non-reference alleles called on at least one of the samples. (\\\"at least one\\\" not true for this dataset)\", \"type\": \"STRING\", \"name\": \"alternate_bases\", \"mode\": \"REPEATED\"}, {\"description\": \"phred-scaled quality score for the assertion made in ALT.\", \"type\": \"FLOAT\", \"name\": \"quality\", \"mode\": \"NULLABLE\"}, {\"description\": \"PASS if this position has passed all filters, i.e. a call is made at this position. Otherwise, if the site has not passed all filters, a list of codes for filters that fail.\", \"type\": \"STRING\", \"name\": \"filter\", \"mode\": \"REPEATED\"}, {\"description\": \"List of unique identifiers for the variant where available.\", \"type\": \"STRING\", \"name\": \"names\", \"mode\": \"REPEATED\"}, {\"fields\": [{\"description\": \"The id of the callset from which this data was exported from the Google Genomics Variants API.\", \"type\": \"STRING\", \"name\": \"call_set_id\", \"mode\": \"NULLABLE\"}, {\"description\": \"Sample identifier.\", \"type\": \"STRING\", \"name\": \"call_set_name\", \"mode\": \"NULLABLE\"}, {\"description\": \"List of genotypes.\", \"type\": \"INTEGER\", \"name\": \"genotype\", \"mode\": \"REPEATED\"}, {\"description\": \"If this value is null, the data is unphased.  Otherwise it is phased.\", \"type\": \"STRING\", \"name\": \"phaseset\", \"mode\": \"NULLABLE\"}, {\"description\": \"List of genotype likelihoods.\", \"type\": \"FLOAT\", \"name\": \"genotype_likelihood\", \"mode\": \"REPEATED\"}, {\"description\": \"FORMAT=<ID=DP,Number=1,Type=Integer,Description=\\\"# high-quality bases\\\">\", \"type\": \"INTEGER\", \"name\": \"DP\", \"mode\": \"NULLABLE\"}, {\"description\": \"FORMAT=<ID=DS,Number=1,Type=Float,Description=\\\"Genotype dosage from MaCH/Thunder\\\">\", \"type\": \"FLOAT\", \"name\": \"DS\", \"mode\": \"NULLABLE\"}, {\"type\": \"STRING\", \"name\": \"FT\", \"mode\": \"NULLABLE\"}, {\"description\": \"FORMAT=<ID=GQ,Number=1,Type=Float,Description=\\\"Genotype quality\\\">\", \"type\": \"STRING\", \"name\": \"GQ\", \"mode\": \"NULLABLE\"}, {\"description\": \"FORMAT=<ID=PL,Number=.,Type=Integer,Description=\\\"List of Phred-scaled genotype likelihoods, number of values is (#ALT+1)*(#ALT+2)/2\\\">\", \"type\": \"INTEGER\", \"name\": \"PL\", \"mode\": \"REPEATED\"}, {\"description\": \"FORMAT=<ID=SP,Number=1,Type=Integer,Description=\\\"Phred-scaled strand bias P-value\\\">\", \"type\": \"INTEGER\", \"name\": \"SP\", \"mode\": \"NULLABLE\"}], \"description\": \"Per-sample measurements.\", \"type\": \"RECORD\", \"name\": \"call\", \"mode\": \"REPEATED\"}, {\"description\": \"INFO=<ID=AA,Number=1,Type=String,Description=\\\"Ancestral Allele, ftp://ftp.1000genomes.ebi.ac.uk/vol1/ftp/pilot_data/technical/reference/ancestral_alignments/README\\\">\", \"type\": \"STRING\", \"name\": \"AA\", \"mode\": \"NULLABLE\"}, {\"description\": \"INFO=<ID=AC,Number=.,Type=Integer,Description=\\\"Alternate Allele Count\\\">\", \"type\": \"INTEGER\", \"name\": \"AC\", \"mode\": \"REPEATED\"}, {\"description\": \"INFO=<ID=AC1,Number=1,Type=Float,Description=\\\"Max-likelihood estimate of the first ALT allele count (no HWE assumption)\\\">\", \"type\": \"INTEGER\", \"name\": \"AC1\", \"mode\": \"NULLABLE\"}, {\"description\": \"INFO=<ID=AF,Number=1,Type=Float,Description=\\\"Global Allele Frequency based on AC/AN\\\">\", \"type\": \"FLOAT\", \"name\": \"AF\", \"mode\": \"NULLABLE\"}, {\"description\": \"INFO=<ID=AF1,Number=1,Type=Float,Description=\\\"Max-likelihood estimate of the first ALT allele frequency (assuming HWE)\\\">\", \"type\": \"FLOAT\", \"name\": \"AF1\", \"mode\": \"NULLABLE\"}, {\"description\": \"INFO=<ID=AFR_AF,Number=1,Type=Float,Description=\\\"Allele Frequency for samples from AFR based on AC/AN\\\">\", \"type\": \"FLOAT\", \"name\": \"AFR_AF\", \"mode\": \"NULLABLE\"}, {\"description\": \"INFO=<ID=AMR_AF,Number=1,Type=Float,Description=\\\"Allele Frequency for samples from AMR based on AC/AN\\\">\", \"type\": \"FLOAT\", \"name\": \"AMR_AF\", \"mode\": \"NULLABLE\"}, {\"description\": \"INFO=<ID=AN,Number=1,Type=Integer,Description=\\\"Total Allele Count\\\">\", \"type\": \"INTEGER\", \"name\": \"AN\", \"mode\": \"NULLABLE\"}, {\"description\": \"INFO=<ID=ASN_AF,Number=1,Type=Float,Description=\\\"Allele Frequency for samples from ASN based on AC/AN\\\">\", \"type\": \"FLOAT\", \"name\": \"ASN_AF\", \"mode\": \"NULLABLE\"}, {\"description\": \"INFO=<ID=AVGPOST,Number=1,Type=Float,Description=\\\"Average posterior probability from MaCH/Thunder\\\">\", \"type\": \"FLOAT\", \"name\": \"AVGPOST\", \"mode\": \"NULLABLE\"}, {\"description\": \"INFO=<ID=CIEND,Number=2,Type=Integer,Description=\\\"Confidence interval around END for imprecise variants\\\">\", \"type\": \"INTEGER\", \"name\": \"CIEND\", \"mode\": \"REPEATED\"}, {\"description\": \"INFO=<ID=CIPOS,Number=2,Type=Integer,Description=\\\"Confidence interval around POS for imprecise variants\\\">\", \"type\": \"INTEGER\", \"name\": \"CIPOS\", \"mode\": \"REPEATED\"}, {\"description\": \"INFO=<ID=DP,Number=1,Type=Integer,Description=\\\"Raw read depth\\\">\", \"type\": \"INTEGER\", \"name\": \"DP\", \"mode\": \"NULLABLE\"}, {\"description\": \"INFO=<ID=DP4,Number=4,Type=Integer,Description=\\\"# high-quality ref-forward bases, ref-reverse, alt-forward and alt-reverse bases\\\">\", \"type\": \"INTEGER\", \"name\": \"DP4\", \"mode\": \"REPEATED\"}, {\"description\": \"INFO=<ID=ERATE,Number=1,Type=Float,Description=\\\"Per-marker Mutation rate from MaCH/Thunder\\\">\", \"type\": \"FLOAT\", \"name\": \"ERATE\", \"mode\": \"NULLABLE\"}, {\"description\": \"INFO=<ID=EUR_AF,Number=1,Type=Float,Description=\\\"Allele Frequency for samples from EUR based on AC/AN\\\">\", \"type\": \"FLOAT\", \"name\": \"EUR_AF\", \"mode\": \"NULLABLE\"}, {\"description\": \"INFO=<ID=FQ,Number=1,Type=Float,Description=\\\"Phred probability of all samples being the same\\\">\", \"type\": \"FLOAT\", \"name\": \"FQ\", \"mode\": \"NULLABLE\"}, {\"description\": \"INFO=<ID=G3,Number=3,Type=Float,Description=\\\"ML estimate of genotype frequencies\\\">\", \"type\": \"FLOAT\", \"name\": \"G3\", \"mode\": \"REPEATED\"}, {\"description\": \"INFO=<ID=HOMLEN,Number=.,Type=Integer,Description=\\\"Length of base pair identical micro-homology at event breakpoints\\\">\", \"type\": \"INTEGER\", \"name\": \"HOMLEN\", \"mode\": \"NULLABLE\"}, {\"description\": \"INFO=<ID=HOMSEQ,Number=.,Type=String,Description=\\\"Sequence of base pair identical micro-homology at event breakpoints\\\">\", \"type\": \"STRING\", \"name\": \"HOMSEQ\", \"mode\": \"NULLABLE\"}, {\"description\": \"INFO=<ID=HWE,Number=1,Type=Float,Description=\\\"Chi^2 based HWE test P-value based on G3\\\">\", \"type\": \"FLOAT\", \"name\": \"HWE\", \"mode\": \"NULLABLE\"}, {\"description\": \"INFO=<ID=LDAF,Number=1,Type=Float,Description=\\\"MLE Allele Frequency Accounting for LD\\\">\", \"type\": \"FLOAT\", \"name\": \"LDAF\", \"mode\": \"NULLABLE\"}, {\"description\": \"INFO=<ID=MQ,Number=1,Type=Integer,Description=\\\"Root-mean-square mapping quality of covering reads\\\">\", \"type\": \"INTEGER\", \"name\": \"MQ\", \"mode\": \"NULLABLE\"}, {\"description\": \"INFO=<ID=PV4,Number=4,Type=Float,Description=\\\"P-values for strand bias, baseQ bias, mapQ bias and tail distance bias\\\">\", \"type\": \"FLOAT\", \"name\": \"PV4\", \"mode\": \"REPEATED\"}, {\"description\": \"INFO=<ID=RSQ,Number=1,Type=Float,Description=\\\"Genotype imputation quality from MaCH/Thunder\\\">\", \"type\": \"FLOAT\", \"name\": \"RSQ\", \"mode\": \"NULLABLE\"}, {\"description\": \"INFO=<ID=SNPSOURCE,Number=.,Type=String,Description=\\\"indicates if a snp was called when analysing the low coverage or exome alignment data\\\">\", \"type\": \"STRING\", \"name\": \"SNPSOURCE\", \"mode\": \"REPEATED\"}, {\"description\": \"\", \"type\": \"STRING\", \"name\": \"SOURCE\", \"mode\": \"REPEATED\"}, {\"description\": \"INFO=<ID=SVLEN,Number=1,Type=Integer,Description=\\\"Difference in length between REF and ALT alleles\\\">\", \"type\": \"INTEGER\", \"name\": \"SVLEN\", \"mode\": \"NULLABLE\"}, {\"description\": \"INFO=<ID=SVTYPE,Number=1,Type=String,Description=\\\"Type of structural variant\\\">\", \"type\": \"STRING\", \"name\": \"SVTYPE\", \"mode\": \"NULLABLE\"}, {\"description\": \"INFO=<ID=THETA,Number=1,Type=Float,Description=\\\"Per-marker Transition rate from MaCH/Thunder\\\">\", \"type\": \"FLOAT\", \"name\": \"THETA\", \"mode\": \"NULLABLE\"}, {\"description\": \"INFO=<ID=VT,Number=1,Type=String,Description=\\\"indicates what type of variant the line represents\\\">\", \"type\": \"STRING\", \"name\": \"VT\", \"mode\": \"NULLABLE\"}]);\n",
       "        }\n",
       "      );\n",
       "    </script>\n",
       "    "
      ],
      "text/plain": [
       "[{ 'name': 'reference_name', 'type': 'STRING', 'mode':'NULLABLE', 'description': 'An identifier from the reference genome or an angle-bracketed ID String pointing to a contig in the assembly file.' },\n",
       " { 'name': 'start', 'type': 'INTEGER', 'mode':'NULLABLE', 'description': 'The reference position, with the first base having position 0.' },\n",
       " { 'name': 'end', 'type': 'INTEGER', 'mode':'NULLABLE', 'description': 'INFO=<ID=END,Number=1,Type=Integer,Description=\"End position of the variant described in this record\">' },\n",
       " { 'name': 'reference_bases', 'type': 'STRING', 'mode':'NULLABLE', 'description': 'Each base must be one of A,C,G,T,N (case insensitive). Multiple bases are permitted. The value in the POS field refers to the position of the first base in the String.' },\n",
       " { 'name': 'alternate_bases', 'type': 'STRING', 'mode':'REPEATED', 'description': 'List of alternate non-reference alleles called on at least one of the samples. (\"at least one\" not true for this dataset)' },\n",
       " { 'name': 'quality', 'type': 'FLOAT', 'mode':'NULLABLE', 'description': 'phred-scaled quality score for the assertion made in ALT.' },\n",
       " { 'name': 'filter', 'type': 'STRING', 'mode':'REPEATED', 'description': 'PASS if this position has passed all filters, i.e. a call is made at this position. Otherwise, if the site has not passed all filters, a list of codes for filters that fail.' },\n",
       " { 'name': 'names', 'type': 'STRING', 'mode':'REPEATED', 'description': 'List of unique identifiers for the variant where available.' },\n",
       " { 'name': 'call', 'type': 'RECORD', 'mode':'REPEATED', 'description': 'Per-sample measurements.' },\n",
       " { 'name': 'call.call_set_id', 'type': 'STRING', 'mode':'NULLABLE', 'description': 'The id of the callset from which this data was exported from the Google Genomics Variants API.' },\n",
       " { 'name': 'call.call_set_name', 'type': 'STRING', 'mode':'NULLABLE', 'description': 'Sample identifier.' },\n",
       " { 'name': 'call.genotype', 'type': 'INTEGER', 'mode':'REPEATED', 'description': 'List of genotypes.' },\n",
       " { 'name': 'call.phaseset', 'type': 'STRING', 'mode':'NULLABLE', 'description': 'If this value is null, the data is unphased.  Otherwise it is phased.' },\n",
       " { 'name': 'call.genotype_likelihood', 'type': 'FLOAT', 'mode':'REPEATED', 'description': 'List of genotype likelihoods.' },\n",
       " { 'name': 'call.DP', 'type': 'INTEGER', 'mode':'NULLABLE', 'description': 'FORMAT=<ID=DP,Number=1,Type=Integer,Description=\"# high-quality bases\">' },\n",
       " { 'name': 'call.DS', 'type': 'FLOAT', 'mode':'NULLABLE', 'description': 'FORMAT=<ID=DS,Number=1,Type=Float,Description=\"Genotype dosage from MaCH/Thunder\">' },\n",
       " { 'name': 'call.FT', 'type': 'STRING', 'mode':'NULLABLE', 'description': 'None' },\n",
       " { 'name': 'call.GQ', 'type': 'STRING', 'mode':'NULLABLE', 'description': 'FORMAT=<ID=GQ,Number=1,Type=Float,Description=\"Genotype quality\">' },\n",
       " { 'name': 'call.PL', 'type': 'INTEGER', 'mode':'REPEATED', 'description': 'FORMAT=<ID=PL,Number=.,Type=Integer,Description=\"List of Phred-scaled genotype likelihoods, number of values is (#ALT+1)*(#ALT+2)/2\">' },\n",
       " { 'name': 'call.SP', 'type': 'INTEGER', 'mode':'NULLABLE', 'description': 'FORMAT=<ID=SP,Number=1,Type=Integer,Description=\"Phred-scaled strand bias P-value\">' },\n",
       " { 'name': 'AA', 'type': 'STRING', 'mode':'NULLABLE', 'description': 'INFO=<ID=AA,Number=1,Type=String,Description=\"Ancestral Allele, ftp://ftp.1000genomes.ebi.ac.uk/vol1/ftp/pilot_data/technical/reference/ancestral_alignments/README\">' },\n",
       " { 'name': 'AC', 'type': 'INTEGER', 'mode':'REPEATED', 'description': 'INFO=<ID=AC,Number=.,Type=Integer,Description=\"Alternate Allele Count\">' },\n",
       " { 'name': 'AC1', 'type': 'INTEGER', 'mode':'NULLABLE', 'description': 'INFO=<ID=AC1,Number=1,Type=Float,Description=\"Max-likelihood estimate of the first ALT allele count (no HWE assumption)\">' },\n",
       " { 'name': 'AF', 'type': 'FLOAT', 'mode':'NULLABLE', 'description': 'INFO=<ID=AF,Number=1,Type=Float,Description=\"Global Allele Frequency based on AC/AN\">' },\n",
       " { 'name': 'AF1', 'type': 'FLOAT', 'mode':'NULLABLE', 'description': 'INFO=<ID=AF1,Number=1,Type=Float,Description=\"Max-likelihood estimate of the first ALT allele frequency (assuming HWE)\">' },\n",
       " { 'name': 'AFR_AF', 'type': 'FLOAT', 'mode':'NULLABLE', 'description': 'INFO=<ID=AFR_AF,Number=1,Type=Float,Description=\"Allele Frequency for samples from AFR based on AC/AN\">' },\n",
       " { 'name': 'AMR_AF', 'type': 'FLOAT', 'mode':'NULLABLE', 'description': 'INFO=<ID=AMR_AF,Number=1,Type=Float,Description=\"Allele Frequency for samples from AMR based on AC/AN\">' },\n",
       " { 'name': 'AN', 'type': 'INTEGER', 'mode':'NULLABLE', 'description': 'INFO=<ID=AN,Number=1,Type=Integer,Description=\"Total Allele Count\">' },\n",
       " { 'name': 'ASN_AF', 'type': 'FLOAT', 'mode':'NULLABLE', 'description': 'INFO=<ID=ASN_AF,Number=1,Type=Float,Description=\"Allele Frequency for samples from ASN based on AC/AN\">' },\n",
       " { 'name': 'AVGPOST', 'type': 'FLOAT', 'mode':'NULLABLE', 'description': 'INFO=<ID=AVGPOST,Number=1,Type=Float,Description=\"Average posterior probability from MaCH/Thunder\">' },\n",
       " { 'name': 'CIEND', 'type': 'INTEGER', 'mode':'REPEATED', 'description': 'INFO=<ID=CIEND,Number=2,Type=Integer,Description=\"Confidence interval around END for imprecise variants\">' },\n",
       " { 'name': 'CIPOS', 'type': 'INTEGER', 'mode':'REPEATED', 'description': 'INFO=<ID=CIPOS,Number=2,Type=Integer,Description=\"Confidence interval around POS for imprecise variants\">' },\n",
       " { 'name': 'DP', 'type': 'INTEGER', 'mode':'NULLABLE', 'description': 'INFO=<ID=DP,Number=1,Type=Integer,Description=\"Raw read depth\">' },\n",
       " { 'name': 'DP4', 'type': 'INTEGER', 'mode':'REPEATED', 'description': 'INFO=<ID=DP4,Number=4,Type=Integer,Description=\"# high-quality ref-forward bases, ref-reverse, alt-forward and alt-reverse bases\">' },\n",
       " { 'name': 'ERATE', 'type': 'FLOAT', 'mode':'NULLABLE', 'description': 'INFO=<ID=ERATE,Number=1,Type=Float,Description=\"Per-marker Mutation rate from MaCH/Thunder\">' },\n",
       " { 'name': 'EUR_AF', 'type': 'FLOAT', 'mode':'NULLABLE', 'description': 'INFO=<ID=EUR_AF,Number=1,Type=Float,Description=\"Allele Frequency for samples from EUR based on AC/AN\">' },\n",
       " { 'name': 'FQ', 'type': 'FLOAT', 'mode':'NULLABLE', 'description': 'INFO=<ID=FQ,Number=1,Type=Float,Description=\"Phred probability of all samples being the same\">' },\n",
       " { 'name': 'G3', 'type': 'FLOAT', 'mode':'REPEATED', 'description': 'INFO=<ID=G3,Number=3,Type=Float,Description=\"ML estimate of genotype frequencies\">' },\n",
       " { 'name': 'HOMLEN', 'type': 'INTEGER', 'mode':'NULLABLE', 'description': 'INFO=<ID=HOMLEN,Number=.,Type=Integer,Description=\"Length of base pair identical micro-homology at event breakpoints\">' },\n",
       " { 'name': 'HOMSEQ', 'type': 'STRING', 'mode':'NULLABLE', 'description': 'INFO=<ID=HOMSEQ,Number=.,Type=String,Description=\"Sequence of base pair identical micro-homology at event breakpoints\">' },\n",
       " { 'name': 'HWE', 'type': 'FLOAT', 'mode':'NULLABLE', 'description': 'INFO=<ID=HWE,Number=1,Type=Float,Description=\"Chi^2 based HWE test P-value based on G3\">' },\n",
       " { 'name': 'LDAF', 'type': 'FLOAT', 'mode':'NULLABLE', 'description': 'INFO=<ID=LDAF,Number=1,Type=Float,Description=\"MLE Allele Frequency Accounting for LD\">' },\n",
       " { 'name': 'MQ', 'type': 'INTEGER', 'mode':'NULLABLE', 'description': 'INFO=<ID=MQ,Number=1,Type=Integer,Description=\"Root-mean-square mapping quality of covering reads\">' },\n",
       " { 'name': 'PV4', 'type': 'FLOAT', 'mode':'REPEATED', 'description': 'INFO=<ID=PV4,Number=4,Type=Float,Description=\"P-values for strand bias, baseQ bias, mapQ bias and tail distance bias\">' },\n",
       " { 'name': 'RSQ', 'type': 'FLOAT', 'mode':'NULLABLE', 'description': 'INFO=<ID=RSQ,Number=1,Type=Float,Description=\"Genotype imputation quality from MaCH/Thunder\">' },\n",
       " { 'name': 'SNPSOURCE', 'type': 'STRING', 'mode':'REPEATED', 'description': 'INFO=<ID=SNPSOURCE,Number=.,Type=String,Description=\"indicates if a snp was called when analysing the low coverage or exome alignment data\">' },\n",
       " { 'name': 'SOURCE', 'type': 'STRING', 'mode':'REPEATED', 'description': '' },\n",
       " { 'name': 'SVLEN', 'type': 'INTEGER', 'mode':'NULLABLE', 'description': 'INFO=<ID=SVLEN,Number=1,Type=Integer,Description=\"Difference in length between REF and ALT alleles\">' },\n",
       " { 'name': 'SVTYPE', 'type': 'STRING', 'mode':'NULLABLE', 'description': 'INFO=<ID=SVTYPE,Number=1,Type=String,Description=\"Type of structural variant\">' },\n",
       " { 'name': 'THETA', 'type': 'FLOAT', 'mode':'NULLABLE', 'description': 'INFO=<ID=THETA,Number=1,Type=Float,Description=\"Per-marker Transition rate from MaCH/Thunder\">' },\n",
       " { 'name': 'VT', 'type': 'STRING', 'mode':'NULLABLE', 'description': 'INFO=<ID=VT,Number=1,Type=String,Description=\"indicates what type of variant the line represents\">' }]"
      ]
     },
     "execution_count": 1,
     "metadata": {},
     "output_type": "execute_result"
    }
   ],
   "source": [
    "import gcp.bigquery as bq\n",
    "variants_table = bq.Table('genomics-public-data:1000_genomes.variants')\n",
    "variants_table.schema"
   ]
  },
  {
   "cell_type": "markdown",
   "metadata": {},
   "source": [
    "### Classifying per-call variant positions into variant/non-variant groups"
   ]
  },
  {
   "cell_type": "markdown",
   "metadata": {},
   "source": [
    "We can tally the reference/alternate allele accounts for *individual* variant positions within chromosome 12. The field `call.genotype` is an integer ranging from `[-1, num_alternate_bases]`. \n",
    "* A value of negative one indicates that the genotype for the call is ambiguous (i.e., a no-call).\n",
    "* A value of zero indicates that the genotype for the call is the same as the reference (i.e., non-variant). \n",
    "* A value of one would indicate that the genotype for the call is the 1st value in the list of alternate bases (likewise for values >1)."
   ]
  },
  {
   "cell_type": "code",
   "execution_count": 2,
   "metadata": {
    "collapsed": false
   },
   "outputs": [],
   "source": [
    "%%sql --module allele_counts\n",
    "\n",
    "SELECT \n",
    "    reference_name,\n",
    "    start,\n",
    "    reference_bases,\n",
    "    alternate_bases,\n",
    "    end,\n",
    "    vt,    \n",
    "    call.call_set_name AS call_set_name,\n",
    "    # 1000 genomes phase 1 data is bi-allelic so there is only ever a single alt\n",
    "    SUM(0 = call.genotype) WITHIN RECORD AS ref_count,\n",
    "    SUM(1 = call.genotype) WITHIN RECORD AS alt_count,\n",
    "FROM\n",
    "  FLATTEN((\n",
    "    SELECT\n",
    "      reference_name,\n",
    "      start,\n",
    "      reference_bases,\n",
    "      alternate_bases,\n",
    "      end,\n",
    "      vt,\n",
    "      call.call_set_name,\n",
    "      call.genotype,\n",
    "    FROM\n",
    "      $variants_table\n",
    "    WHERE\n",
    "      reference_name = '12' -- i.e., chromosome 12\n",
    "    ),\n",
    "    call)"
   ]
  },
  {
   "cell_type": "markdown",
   "metadata": {},
   "source": [
    "Let's verify that our allele counts match our expectations before moving on. For any given row, the alternate + reference counts should sum to 2 for this experiment."
   ]
  },
  {
   "cell_type": "code",
   "execution_count": 3,
   "metadata": {
    "collapsed": false
   },
   "outputs": [
    {
     "data": {
      "text/html": [
       "<div>\n",
       "<table border=\"1\" class=\"dataframe\">\n",
       "  <thead>\n",
       "    <tr style=\"text-align: right;\">\n",
       "      <th></th>\n",
       "      <th>reference_name</th>\n",
       "      <th>start</th>\n",
       "      <th>reference_bases</th>\n",
       "      <th>alternate_bases</th>\n",
       "      <th>end</th>\n",
       "      <th>vt</th>\n",
       "      <th>call_set_name</th>\n",
       "      <th>ref_count</th>\n",
       "      <th>alt_count</th>\n",
       "    </tr>\n",
       "  </thead>\n",
       "  <tbody>\n",
       "    <tr>\n",
       "      <th>0</th>\n",
       "      <td>12</td>\n",
       "      <td>19434623</td>\n",
       "      <td>A</td>\n",
       "      <td>G</td>\n",
       "      <td>19434624</td>\n",
       "      <td>SNP</td>\n",
       "      <td>HG00261</td>\n",
       "      <td>2</td>\n",
       "      <td>0</td>\n",
       "    </tr>\n",
       "    <tr>\n",
       "      <th>1</th>\n",
       "      <td>12</td>\n",
       "      <td>19434623</td>\n",
       "      <td>A</td>\n",
       "      <td>G</td>\n",
       "      <td>19434624</td>\n",
       "      <td>SNP</td>\n",
       "      <td>HG00593</td>\n",
       "      <td>2</td>\n",
       "      <td>0</td>\n",
       "    </tr>\n",
       "    <tr>\n",
       "      <th>2</th>\n",
       "      <td>12</td>\n",
       "      <td>19434623</td>\n",
       "      <td>A</td>\n",
       "      <td>G</td>\n",
       "      <td>19434624</td>\n",
       "      <td>SNP</td>\n",
       "      <td>NA12749</td>\n",
       "      <td>2</td>\n",
       "      <td>0</td>\n",
       "    </tr>\n",
       "    <tr>\n",
       "      <th>3</th>\n",
       "      <td>12</td>\n",
       "      <td>19434623</td>\n",
       "      <td>A</td>\n",
       "      <td>G</td>\n",
       "      <td>19434624</td>\n",
       "      <td>SNP</td>\n",
       "      <td>HG00150</td>\n",
       "      <td>2</td>\n",
       "      <td>0</td>\n",
       "    </tr>\n",
       "    <tr>\n",
       "      <th>4</th>\n",
       "      <td>12</td>\n",
       "      <td>19434623</td>\n",
       "      <td>A</td>\n",
       "      <td>G</td>\n",
       "      <td>19434624</td>\n",
       "      <td>SNP</td>\n",
       "      <td>NA19675</td>\n",
       "      <td>2</td>\n",
       "      <td>0</td>\n",
       "    </tr>\n",
       "  </tbody>\n",
       "</table>\n",
       "</div>"
      ],
      "text/plain": [
       "  reference_name     start reference_bases alternate_bases       end   vt  \\\n",
       "0             12  19434623               A               G  19434624  SNP   \n",
       "1             12  19434623               A               G  19434624  SNP   \n",
       "2             12  19434623               A               G  19434624  SNP   \n",
       "3             12  19434623               A               G  19434624  SNP   \n",
       "4             12  19434623               A               G  19434624  SNP   \n",
       "\n",
       "  call_set_name  ref_count  alt_count  \n",
       "0       HG00261          2          0  \n",
       "1       HG00593          2          0  \n",
       "2       NA12749          2          0  \n",
       "3       HG00150          2          0  \n",
       "4       NA19675          2          0  "
      ]
     },
     "execution_count": 3,
     "metadata": {},
     "output_type": "execute_result"
    }
   ],
   "source": [
    "bq.Query(allele_counts, variants_table=variants_table).sample().to_dataframe()"
   ]
  },
  {
   "cell_type": "markdown",
   "metadata": {},
   "source": [
    "### Assigning case and control groups"
   ]
  },
  {
   "cell_type": "markdown",
   "metadata": {},
   "source": [
    "Now we can join our allele counts with metadata available in the sample info table. We'll use this sample metadata to split the set of genomes into case and control groups based upon the super population group."
   ]
  },
  {
   "cell_type": "code",
   "execution_count": 4,
   "metadata": {
    "collapsed": false
   },
   "outputs": [],
   "source": [
    "sample_info_table = bq.Table('genomics-public-data:1000_genomes.sample_info')"
   ]
  },
  {
   "cell_type": "code",
   "execution_count": 5,
   "metadata": {
    "collapsed": false
   },
   "outputs": [],
   "source": [
    "%%sql --module exp_groups\n",
    "\n",
    "SELECT\n",
    "  super_population,\n",
    "  ('EAS' = super_population) AS is_case,\n",
    "  call_set_name,\n",
    "  reference_name,\n",
    "  start,\n",
    "  reference_bases,\n",
    "  alternate_bases,\n",
    "  end,\n",
    "  vt,\n",
    "  ref_count,\n",
    "  alt_count,\n",
    "FROM $allele_counts AS allele_counts\n",
    "JOIN $sample_info_table AS samples\n",
    "  ON allele_counts.call_set_name = samples.sample"
   ]
  },
  {
   "cell_type": "code",
   "execution_count": 6,
   "metadata": {
    "collapsed": false
   },
   "outputs": [
    {
     "data": {
      "text/html": [
       "<div>\n",
       "<table border=\"1\" class=\"dataframe\">\n",
       "  <thead>\n",
       "    <tr style=\"text-align: right;\">\n",
       "      <th></th>\n",
       "      <th>super_population</th>\n",
       "      <th>is_case</th>\n",
       "      <th>call_set_name</th>\n",
       "      <th>reference_name</th>\n",
       "      <th>start</th>\n",
       "      <th>reference_bases</th>\n",
       "      <th>alternate_bases</th>\n",
       "      <th>end</th>\n",
       "      <th>vt</th>\n",
       "      <th>ref_count</th>\n",
       "      <th>alt_count</th>\n",
       "    </tr>\n",
       "  </thead>\n",
       "  <tbody>\n",
       "    <tr>\n",
       "      <th>0</th>\n",
       "      <td>EUR</td>\n",
       "      <td>False</td>\n",
       "      <td>HG00261</td>\n",
       "      <td>12</td>\n",
       "      <td>18330083</td>\n",
       "      <td>C</td>\n",
       "      <td>A</td>\n",
       "      <td>18330084</td>\n",
       "      <td>SNP</td>\n",
       "      <td>0</td>\n",
       "      <td>2</td>\n",
       "    </tr>\n",
       "    <tr>\n",
       "      <th>1</th>\n",
       "      <td>EAS</td>\n",
       "      <td>True</td>\n",
       "      <td>HG00593</td>\n",
       "      <td>12</td>\n",
       "      <td>18330083</td>\n",
       "      <td>C</td>\n",
       "      <td>A</td>\n",
       "      <td>18330084</td>\n",
       "      <td>SNP</td>\n",
       "      <td>1</td>\n",
       "      <td>1</td>\n",
       "    </tr>\n",
       "    <tr>\n",
       "      <th>2</th>\n",
       "      <td>EUR</td>\n",
       "      <td>False</td>\n",
       "      <td>NA12749</td>\n",
       "      <td>12</td>\n",
       "      <td>18330083</td>\n",
       "      <td>C</td>\n",
       "      <td>A</td>\n",
       "      <td>18330084</td>\n",
       "      <td>SNP</td>\n",
       "      <td>0</td>\n",
       "      <td>2</td>\n",
       "    </tr>\n",
       "    <tr>\n",
       "      <th>3</th>\n",
       "      <td>EUR</td>\n",
       "      <td>False</td>\n",
       "      <td>HG00150</td>\n",
       "      <td>12</td>\n",
       "      <td>18330083</td>\n",
       "      <td>C</td>\n",
       "      <td>A</td>\n",
       "      <td>18330084</td>\n",
       "      <td>SNP</td>\n",
       "      <td>1</td>\n",
       "      <td>1</td>\n",
       "    </tr>\n",
       "    <tr>\n",
       "      <th>4</th>\n",
       "      <td>AMR</td>\n",
       "      <td>False</td>\n",
       "      <td>NA19675</td>\n",
       "      <td>12</td>\n",
       "      <td>18330083</td>\n",
       "      <td>C</td>\n",
       "      <td>A</td>\n",
       "      <td>18330084</td>\n",
       "      <td>SNP</td>\n",
       "      <td>0</td>\n",
       "      <td>2</td>\n",
       "    </tr>\n",
       "  </tbody>\n",
       "</table>\n",
       "</div>"
      ],
      "text/plain": [
       "  super_population is_case call_set_name reference_name     start  \\\n",
       "0              EUR   False       HG00261             12  18330083   \n",
       "1              EAS    True       HG00593             12  18330083   \n",
       "2              EUR   False       NA12749             12  18330083   \n",
       "3              EUR   False       HG00150             12  18330083   \n",
       "4              AMR   False       NA19675             12  18330083   \n",
       "\n",
       "  reference_bases alternate_bases       end   vt  ref_count  alt_count  \n",
       "0               C               A  18330084  SNP          0          2  \n",
       "1               C               A  18330084  SNP          1          1  \n",
       "2               C               A  18330084  SNP          0          2  \n",
       "3               C               A  18330084  SNP          1          1  \n",
       "4               C               A  18330084  SNP          0          2  "
      ]
     },
     "execution_count": 6,
     "metadata": {},
     "output_type": "execute_result"
    }
   ],
   "source": [
    "bq.Query(exp_groups, allele_counts=allele_counts,\n",
    "                     sample_info_table=sample_info_table,\n",
    "                     variants_table=variants_table).sample().to_dataframe()"
   ]
  },
  {
   "cell_type": "markdown",
   "metadata": {},
   "source": [
    "The variants table contains a few different types of variant: structural variants (\"SV\"), indels (\"INDEL\") and SNPs (\"SNP\")."
   ]
  },
  {
   "cell_type": "code",
   "execution_count": 7,
   "metadata": {
    "collapsed": false
   },
   "outputs": [
    {
     "data": {
      "text/html": [
       "\n",
       "    <div class=\"bqtv\" id=\"2_144435444865\"></div>\n",
       "    <br />(rows: 3, time: 0.4s, cached, job: job_l3Z5dkMGEBkpl61jsNfJu6-GXmg)<br />\n",
       "    <script>\n",
       "      require(['extensions/charting', 'element!2_144435444865', 'style!/static/extensions/charting.css'],\n",
       "        function(charts, dom) {\n",
       "          charts.render(dom,\n",
       "            {\n",
       "              chartStyle:\"table\",\n",
       "              dataName:\"0\",\n",
       "              fields:\"vt,f0_\",\n",
       "              totalRows:3,\n",
       "              rowsPerPage:25,\n",
       "            }, {}, {\"rows\": [{\"c\": [{\"v\": \"SNP\"}, {\"v\": 1921583664}]}, {\"c\": [{\"v\": \"SV\"}, {\"v\": 745836}]}, {\"c\": [{\"v\": \"INDEL\"}, {\"v\": 73853052}]}], \"cols\": [{\"type\": \"string\", \"id\": \"vt\", \"label\": \"vt\"}, {\"type\": \"number\", \"id\": \"f0_\", \"label\": \"f0_\"}]});\n",
       "        }\n",
       "      );\n",
       "    </script>\n",
       "  "
      ],
      "text/plain": []
     },
     "execution_count": 7,
     "metadata": {},
     "output_type": "execute_result"
    }
   ],
   "source": [
    "%%sql\n",
    "SELECT \n",
    "  vt,\n",
    "  COUNT(*)\n",
    "FROM $exp_groups\n",
    "GROUP BY vt"
   ]
  },
  {
   "cell_type": "markdown",
   "metadata": {},
   "source": [
    "For the purposes of this experiment, let's limit the variants to only SNPs."
   ]
  },
  {
   "cell_type": "code",
   "execution_count": 8,
   "metadata": {
    "collapsed": false
   },
   "outputs": [],
   "source": [
    "%%sql --module snps\n",
    "SELECT * \n",
    "FROM $exp_groups\n",
    "WHERE vt='SNP'"
   ]
  },
  {
   "cell_type": "code",
   "execution_count": 9,
   "metadata": {
    "collapsed": false
   },
   "outputs": [
    {
     "data": {
      "text/html": [
       "<div>\n",
       "<table border=\"1\" class=\"dataframe\">\n",
       "  <thead>\n",
       "    <tr style=\"text-align: right;\">\n",
       "      <th></th>\n",
       "      <th>super_population</th>\n",
       "      <th>is_case</th>\n",
       "      <th>call_set_name</th>\n",
       "      <th>reference_name</th>\n",
       "      <th>start</th>\n",
       "      <th>reference_bases</th>\n",
       "      <th>alternate_bases</th>\n",
       "      <th>end</th>\n",
       "      <th>vt</th>\n",
       "      <th>ref_count</th>\n",
       "      <th>alt_count</th>\n",
       "    </tr>\n",
       "  </thead>\n",
       "  <tbody>\n",
       "    <tr>\n",
       "      <th>0</th>\n",
       "      <td>EUR</td>\n",
       "      <td>False</td>\n",
       "      <td>HG00261</td>\n",
       "      <td>12</td>\n",
       "      <td>18372942</td>\n",
       "      <td>A</td>\n",
       "      <td>G</td>\n",
       "      <td>18372943</td>\n",
       "      <td>SNP</td>\n",
       "      <td>2</td>\n",
       "      <td>0</td>\n",
       "    </tr>\n",
       "    <tr>\n",
       "      <th>1</th>\n",
       "      <td>EAS</td>\n",
       "      <td>True</td>\n",
       "      <td>HG00593</td>\n",
       "      <td>12</td>\n",
       "      <td>18372942</td>\n",
       "      <td>A</td>\n",
       "      <td>G</td>\n",
       "      <td>18372943</td>\n",
       "      <td>SNP</td>\n",
       "      <td>2</td>\n",
       "      <td>0</td>\n",
       "    </tr>\n",
       "    <tr>\n",
       "      <th>2</th>\n",
       "      <td>EUR</td>\n",
       "      <td>False</td>\n",
       "      <td>NA12749</td>\n",
       "      <td>12</td>\n",
       "      <td>18372942</td>\n",
       "      <td>A</td>\n",
       "      <td>G</td>\n",
       "      <td>18372943</td>\n",
       "      <td>SNP</td>\n",
       "      <td>2</td>\n",
       "      <td>0</td>\n",
       "    </tr>\n",
       "    <tr>\n",
       "      <th>3</th>\n",
       "      <td>EUR</td>\n",
       "      <td>False</td>\n",
       "      <td>HG00150</td>\n",
       "      <td>12</td>\n",
       "      <td>18372942</td>\n",
       "      <td>A</td>\n",
       "      <td>G</td>\n",
       "      <td>18372943</td>\n",
       "      <td>SNP</td>\n",
       "      <td>2</td>\n",
       "      <td>0</td>\n",
       "    </tr>\n",
       "    <tr>\n",
       "      <th>4</th>\n",
       "      <td>AMR</td>\n",
       "      <td>False</td>\n",
       "      <td>NA19675</td>\n",
       "      <td>12</td>\n",
       "      <td>18372942</td>\n",
       "      <td>A</td>\n",
       "      <td>G</td>\n",
       "      <td>18372943</td>\n",
       "      <td>SNP</td>\n",
       "      <td>2</td>\n",
       "      <td>0</td>\n",
       "    </tr>\n",
       "  </tbody>\n",
       "</table>\n",
       "</div>"
      ],
      "text/plain": [
       "  super_population is_case call_set_name reference_name     start  \\\n",
       "0              EUR   False       HG00261             12  18372942   \n",
       "1              EAS    True       HG00593             12  18372942   \n",
       "2              EUR   False       NA12749             12  18372942   \n",
       "3              EUR   False       HG00150             12  18372942   \n",
       "4              AMR   False       NA19675             12  18372942   \n",
       "\n",
       "  reference_bases alternate_bases       end   vt  ref_count  alt_count  \n",
       "0               A               G  18372943  SNP          2          0  \n",
       "1               A               G  18372943  SNP          2          0  \n",
       "2               A               G  18372943  SNP          2          0  \n",
       "3               A               G  18372943  SNP          2          0  \n",
       "4               A               G  18372943  SNP          2          0  "
      ]
     },
     "execution_count": 9,
     "metadata": {},
     "output_type": "execute_result"
    }
   ],
   "source": [
    "bq.Query(snps,\n",
    "         exp_groups=exp_groups,\n",
    "         allele_counts=allele_counts,\n",
    "         sample_info_table=sample_info_table,\n",
    "         variants_table=variants_table).sample().to_dataframe()"
   ]
  },
  {
   "cell_type": "markdown",
   "metadata": {},
   "source": [
    "### Tallying reference/alternate allele counts for case/control groups"
   ]
  },
  {
   "cell_type": "markdown",
   "metadata": {},
   "source": [
    "Now that we've assigned each call set to either the case or the control group, we can tally up the counts of reference and alternate alleles within each of our assigned case/control groups, for each variant position, like so:"
   ]
  },
  {
   "cell_type": "code",
   "execution_count": 10,
   "metadata": {
    "collapsed": false
   },
   "outputs": [],
   "source": [
    "%%sql --module grouped_counts\n",
    "\n",
    "SELECT\n",
    "    reference_name,\n",
    "    start,\n",
    "    end,\n",
    "    reference_bases,\n",
    "    alternate_bases,\n",
    "    vt,\n",
    "    SUM(ref_count + alt_count) AS allele_count,\n",
    "    SUM(ref_count) AS ref_count,\n",
    "    SUM(alt_count) AS alt_count,\n",
    "    SUM(IF(TRUE = is_case, INTEGER(ref_count + alt_count), 0)) AS case_count,\n",
    "    SUM(IF(FALSE = is_case, INTEGER(ref_count + alt_count), 0)) AS control_count,\n",
    "    SUM(IF(TRUE = is_case, ref_count, 0)) AS case_ref_count,\n",
    "    SUM(IF(TRUE = is_case, alt_count, 0)) AS case_alt_count,\n",
    "    SUM(IF(FALSE = is_case, ref_count, 0)) AS control_ref_count,\n",
    "    SUM(IF(FALSE = is_case, alt_count, 0)) AS control_alt_count,\n",
    "FROM $snps\n",
    "GROUP BY\n",
    "    reference_name,\n",
    "    start,\n",
    "    end,\n",
    "    reference_bases,\n",
    "    alternate_bases,\n",
    "    vt"
   ]
  },
  {
   "cell_type": "markdown",
   "metadata": {},
   "source": [
    "Again, validate that the results are sensical for the group level counts (still per variant position)."
   ]
  },
  {
   "cell_type": "code",
   "execution_count": 11,
   "metadata": {
    "collapsed": false
   },
   "outputs": [
    {
     "data": {
      "text/html": [
       "<div>\n",
       "<table border=\"1\" class=\"dataframe\">\n",
       "  <thead>\n",
       "    <tr style=\"text-align: right;\">\n",
       "      <th></th>\n",
       "      <th>reference_name</th>\n",
       "      <th>start</th>\n",
       "      <th>end</th>\n",
       "      <th>reference_bases</th>\n",
       "      <th>alternate_bases</th>\n",
       "      <th>vt</th>\n",
       "      <th>allele_count</th>\n",
       "      <th>ref_count</th>\n",
       "      <th>alt_count</th>\n",
       "      <th>case_count</th>\n",
       "      <th>control_count</th>\n",
       "      <th>case_ref_count</th>\n",
       "      <th>case_alt_count</th>\n",
       "      <th>control_ref_count</th>\n",
       "      <th>control_alt_count</th>\n",
       "    </tr>\n",
       "  </thead>\n",
       "  <tbody>\n",
       "    <tr>\n",
       "      <th>0</th>\n",
       "      <td>12</td>\n",
       "      <td>113369176</td>\n",
       "      <td>113369177</td>\n",
       "      <td>T</td>\n",
       "      <td>G</td>\n",
       "      <td>SNP</td>\n",
       "      <td>2184</td>\n",
       "      <td>499</td>\n",
       "      <td>1685</td>\n",
       "      <td>572</td>\n",
       "      <td>1612</td>\n",
       "      <td>124</td>\n",
       "      <td>448</td>\n",
       "      <td>375</td>\n",
       "      <td>1237</td>\n",
       "    </tr>\n",
       "    <tr>\n",
       "      <th>1</th>\n",
       "      <td>12</td>\n",
       "      <td>84117090</td>\n",
       "      <td>84117091</td>\n",
       "      <td>T</td>\n",
       "      <td>A</td>\n",
       "      <td>SNP</td>\n",
       "      <td>2184</td>\n",
       "      <td>2182</td>\n",
       "      <td>2</td>\n",
       "      <td>572</td>\n",
       "      <td>1612</td>\n",
       "      <td>572</td>\n",
       "      <td>0</td>\n",
       "      <td>1610</td>\n",
       "      <td>2</td>\n",
       "    </tr>\n",
       "    <tr>\n",
       "      <th>2</th>\n",
       "      <td>12</td>\n",
       "      <td>41729418</td>\n",
       "      <td>41729419</td>\n",
       "      <td>G</td>\n",
       "      <td>A</td>\n",
       "      <td>SNP</td>\n",
       "      <td>2184</td>\n",
       "      <td>1101</td>\n",
       "      <td>1083</td>\n",
       "      <td>572</td>\n",
       "      <td>1612</td>\n",
       "      <td>283</td>\n",
       "      <td>289</td>\n",
       "      <td>818</td>\n",
       "      <td>794</td>\n",
       "    </tr>\n",
       "    <tr>\n",
       "      <th>3</th>\n",
       "      <td>12</td>\n",
       "      <td>41768110</td>\n",
       "      <td>41768111</td>\n",
       "      <td>G</td>\n",
       "      <td>A</td>\n",
       "      <td>SNP</td>\n",
       "      <td>2184</td>\n",
       "      <td>1121</td>\n",
       "      <td>1063</td>\n",
       "      <td>572</td>\n",
       "      <td>1612</td>\n",
       "      <td>284</td>\n",
       "      <td>288</td>\n",
       "      <td>837</td>\n",
       "      <td>775</td>\n",
       "    </tr>\n",
       "    <tr>\n",
       "      <th>4</th>\n",
       "      <td>12</td>\n",
       "      <td>26584345</td>\n",
       "      <td>26584346</td>\n",
       "      <td>G</td>\n",
       "      <td>A</td>\n",
       "      <td>SNP</td>\n",
       "      <td>2184</td>\n",
       "      <td>103</td>\n",
       "      <td>2081</td>\n",
       "      <td>572</td>\n",
       "      <td>1612</td>\n",
       "      <td>0</td>\n",
       "      <td>572</td>\n",
       "      <td>103</td>\n",
       "      <td>1509</td>\n",
       "    </tr>\n",
       "  </tbody>\n",
       "</table>\n",
       "</div>"
      ],
      "text/plain": [
       "  reference_name      start        end reference_bases alternate_bases   vt  \\\n",
       "0             12  113369176  113369177               T               G  SNP   \n",
       "1             12   84117090   84117091               T               A  SNP   \n",
       "2             12   41729418   41729419               G               A  SNP   \n",
       "3             12   41768110   41768111               G               A  SNP   \n",
       "4             12   26584345   26584346               G               A  SNP   \n",
       "\n",
       "   allele_count  ref_count  alt_count  case_count  control_count  \\\n",
       "0          2184        499       1685         572           1612   \n",
       "1          2184       2182          2         572           1612   \n",
       "2          2184       1101       1083         572           1612   \n",
       "3          2184       1121       1063         572           1612   \n",
       "4          2184        103       2081         572           1612   \n",
       "\n",
       "   case_ref_count  case_alt_count  control_ref_count  control_alt_count  \n",
       "0             124             448                375               1237  \n",
       "1             572               0               1610                  2  \n",
       "2             283             289                818                794  \n",
       "3             284             288                837                775  \n",
       "4               0             572                103               1509  "
      ]
     },
     "execution_count": 11,
     "metadata": {},
     "output_type": "execute_result"
    }
   ],
   "source": [
    "bq.Query(grouped_counts,\n",
    "         snps=snps,\n",
    "         exp_groups=exp_groups,\n",
    "         allele_counts=allele_counts,\n",
    "         sample_info_table=sample_info_table,\n",
    "         variants_table=variants_table).sample().to_dataframe()"
   ]
  },
  {
   "cell_type": "markdown",
   "metadata": {},
   "source": [
    "## Quantify the statistical significance at each variant positions"
   ]
  },
  {
   "cell_type": "markdown",
   "metadata": {},
   "source": [
    "We can quantify the statistical significance of each variant position using the Chi-squared test. Furthermore, we can restrict our result set to *only* statistically significant variant positions for this experiment by ranking each position by its statistical signficance (decreasing) and thresholding the results for significance at `p <= 5e-8` (chi-squared score >= 29.7)."
   ]
  },
  {
   "cell_type": "code",
   "execution_count": 12,
   "metadata": {
    "collapsed": false
   },
   "outputs": [],
   "source": [
    "%%sql --module results\n",
    "\n",
    "SELECT\n",
    "  reference_name,\n",
    "  start,\n",
    "  end,\n",
    "  reference_bases,\n",
    "  alternate_bases,\n",
    "  vt,\n",
    "  case_count,\n",
    "  control_count,\n",
    "  allele_count,\n",
    "  ref_count,\n",
    "  alt_count,\n",
    "  case_ref_count,\n",
    "  case_alt_count,\n",
    "  control_ref_count,\n",
    "  control_alt_count,\n",
    "  # http://homes.cs.washington.edu/~suinlee/genome560/lecture7.pdf\n",
    "  # https://en.wikipedia.org/wiki/Yates%27s_correction_for_continuity\n",
    "  ROUND(\n",
    "    POW(ABS(case_ref_count - (ref_count/allele_count)*case_count) - 0.5,\n",
    "      2)/((ref_count/allele_count)*case_count) +\n",
    "    POW(ABS(control_ref_count - (ref_count/allele_count)*control_count) - 0.5,\n",
    "      2)/((ref_count/allele_count)*control_count) +\n",
    "    POW(ABS(case_alt_count - (alt_count/allele_count)*case_count) - 0.5,\n",
    "      2)/((alt_count/allele_count)*case_count) +\n",
    "    POW(ABS(control_alt_count - (alt_count/allele_count)*control_count) - 0.5,\n",
    "      2)/((alt_count/allele_count)*control_count),\n",
    "    3) AS chi_squared_score\n",
    "FROM $grouped_counts\n",
    "WHERE\n",
    "  # For chi-squared, expected counts must be at least 5 for each group\n",
    "  (ref_count/allele_count)*case_count >= 5.0\n",
    "  AND (ref_count/allele_count)*control_count >= 5.0\n",
    "  AND (alt_count/allele_count)*case_count >= 5.0\n",
    "  AND (alt_count/allele_count)*control_count >= 5.0\n",
    "HAVING\n",
    "  # Chi-squared critical value for df=1, p-value=5*10^-8 is 29.71679\n",
    "  chi_squared_score >= 29.71679\n",
    "ORDER BY\n",
    "  chi_squared_score DESC,\n",
    "  allele_count DESC"
   ]
  },
  {
   "cell_type": "markdown",
   "metadata": {},
   "source": [
    "We now run this query over **all** the variants within chromosome 12 and return the first few most significant variants."
   ]
  },
  {
   "cell_type": "code",
   "execution_count": 13,
   "metadata": {
    "collapsed": false
   },
   "outputs": [
    {
     "data": {
      "text/html": [
       "<div>\n",
       "<table border=\"1\" class=\"dataframe\">\n",
       "  <thead>\n",
       "    <tr style=\"text-align: right;\">\n",
       "      <th></th>\n",
       "      <th>reference_name</th>\n",
       "      <th>start</th>\n",
       "      <th>end</th>\n",
       "      <th>reference_bases</th>\n",
       "      <th>alternate_bases</th>\n",
       "      <th>vt</th>\n",
       "      <th>case_count</th>\n",
       "      <th>control_count</th>\n",
       "      <th>allele_count</th>\n",
       "      <th>ref_count</th>\n",
       "      <th>alt_count</th>\n",
       "      <th>case_ref_count</th>\n",
       "      <th>case_alt_count</th>\n",
       "      <th>control_ref_count</th>\n",
       "      <th>control_alt_count</th>\n",
       "      <th>chi_squared_score</th>\n",
       "    </tr>\n",
       "  </thead>\n",
       "  <tbody>\n",
       "    <tr>\n",
       "      <th>0</th>\n",
       "      <td>12</td>\n",
       "      <td>110571373</td>\n",
       "      <td>110571374</td>\n",
       "      <td>A</td>\n",
       "      <td>G</td>\n",
       "      <td>SNP</td>\n",
       "      <td>572</td>\n",
       "      <td>1612</td>\n",
       "      <td>2184</td>\n",
       "      <td>1813</td>\n",
       "      <td>371</td>\n",
       "      <td>220</td>\n",
       "      <td>352</td>\n",
       "      <td>1593</td>\n",
       "      <td>19</td>\n",
       "      <td>1086.505</td>\n",
       "    </tr>\n",
       "    <tr>\n",
       "      <th>1</th>\n",
       "      <td>12</td>\n",
       "      <td>22509094</td>\n",
       "      <td>22509095</td>\n",
       "      <td>T</td>\n",
       "      <td>C</td>\n",
       "      <td>SNP</td>\n",
       "      <td>572</td>\n",
       "      <td>1612</td>\n",
       "      <td>2184</td>\n",
       "      <td>1589</td>\n",
       "      <td>595</td>\n",
       "      <td>116</td>\n",
       "      <td>456</td>\n",
       "      <td>1473</td>\n",
       "      <td>139</td>\n",
       "      <td>1073.082</td>\n",
       "    </tr>\n",
       "    <tr>\n",
       "      <th>2</th>\n",
       "      <td>12</td>\n",
       "      <td>22525352</td>\n",
       "      <td>22525353</td>\n",
       "      <td>A</td>\n",
       "      <td>C</td>\n",
       "      <td>SNP</td>\n",
       "      <td>572</td>\n",
       "      <td>1612</td>\n",
       "      <td>2184</td>\n",
       "      <td>1585</td>\n",
       "      <td>599</td>\n",
       "      <td>115</td>\n",
       "      <td>457</td>\n",
       "      <td>1470</td>\n",
       "      <td>142</td>\n",
       "      <td>1068.266</td>\n",
       "    </tr>\n",
       "    <tr>\n",
       "      <th>3</th>\n",
       "      <td>12</td>\n",
       "      <td>22524240</td>\n",
       "      <td>22524241</td>\n",
       "      <td>T</td>\n",
       "      <td>C</td>\n",
       "      <td>SNP</td>\n",
       "      <td>572</td>\n",
       "      <td>1612</td>\n",
       "      <td>2184</td>\n",
       "      <td>1584</td>\n",
       "      <td>600</td>\n",
       "      <td>115</td>\n",
       "      <td>457</td>\n",
       "      <td>1469</td>\n",
       "      <td>143</td>\n",
       "      <td>1065.294</td>\n",
       "    </tr>\n",
       "    <tr>\n",
       "      <th>4</th>\n",
       "      <td>12</td>\n",
       "      <td>33240567</td>\n",
       "      <td>33240568</td>\n",
       "      <td>C</td>\n",
       "      <td>G</td>\n",
       "      <td>SNP</td>\n",
       "      <td>572</td>\n",
       "      <td>1612</td>\n",
       "      <td>2184</td>\n",
       "      <td>1678</td>\n",
       "      <td>506</td>\n",
       "      <td>159</td>\n",
       "      <td>413</td>\n",
       "      <td>1519</td>\n",
       "      <td>93</td>\n",
       "      <td>1043.029</td>\n",
       "    </tr>\n",
       "  </tbody>\n",
       "</table>\n",
       "</div>"
      ],
      "text/plain": [
       "  reference_name      start        end reference_bases alternate_bases   vt  \\\n",
       "0             12  110571373  110571374               A               G  SNP   \n",
       "1             12   22509094   22509095               T               C  SNP   \n",
       "2             12   22525352   22525353               A               C  SNP   \n",
       "3             12   22524240   22524241               T               C  SNP   \n",
       "4             12   33240567   33240568               C               G  SNP   \n",
       "\n",
       "   case_count  control_count  allele_count  ref_count  alt_count  \\\n",
       "0         572           1612          2184       1813        371   \n",
       "1         572           1612          2184       1589        595   \n",
       "2         572           1612          2184       1585        599   \n",
       "3         572           1612          2184       1584        600   \n",
       "4         572           1612          2184       1678        506   \n",
       "\n",
       "   case_ref_count  case_alt_count  control_ref_count  control_alt_count  \\\n",
       "0             220             352               1593                 19   \n",
       "1             116             456               1473                139   \n",
       "2             115             457               1470                142   \n",
       "3             115             457               1469                143   \n",
       "4             159             413               1519                 93   \n",
       "\n",
       "   chi_squared_score  \n",
       "0           1086.505  \n",
       "1           1073.082  \n",
       "2           1068.266  \n",
       "3           1065.294  \n",
       "4           1043.029  "
      ]
     },
     "execution_count": 13,
     "metadata": {},
     "output_type": "execute_result"
    }
   ],
   "source": [
    "bq.Query(results,\n",
    "         grouped_counts=grouped_counts,\n",
    "         snps=snps,\n",
    "         exp_groups=exp_groups,\n",
    "         allele_counts=allele_counts,\n",
    "         sample_info_table=sample_info_table,\n",
    "         variants_table=variants_table).sample().to_dataframe()"
   ]
  },
  {
   "cell_type": "markdown",
   "metadata": {},
   "source": [
    "Scroll to the right in the above results to see that the positions deemed significant do in fact have significantly different case/control counts for the alternate/reference bases."
   ]
  },
  {
   "cell_type": "markdown",
   "metadata": {},
   "source": [
    "### Computing Chi-squared statistics in BigQuery vs Python vs R"
   ]
  },
  {
   "cell_type": "markdown",
   "metadata": {},
   "source": [
    "Let's compare these BigQuery-computed Chi-squared scores to ones calculated via Python's statistical packages"
   ]
  },
  {
   "cell_type": "code",
   "execution_count": 14,
   "metadata": {
    "collapsed": false
   },
   "outputs": [
    {
     "name": "stdout",
     "output_type": "stream",
     "text": [
      "Python Chi-sq score = 1086.505\n"
     ]
    }
   ],
   "source": [
    "import numpy as np\n",
    "from scipy.stats import chi2_contingency\n",
    "\n",
    "chi2, p, dof, expected = chi2_contingency(np.array([ \n",
    "    [220, 352], # case \n",
    "    [1593, 19]  # control\n",
    "]))\n",
    "\n",
    "print 'Python Chi-sq score = %.3f' % chi2"
   ]
  },
  {
   "cell_type": "markdown",
   "metadata": {},
   "source": [
    "Comparing Python statistics to those computed in R separately with the result displayed here:\n",
    "```\n",
    "> chisq.test(rbind(c(220, 352), c(1593, 19)))\n",
    "\n",
    "\tPearson's Chi-squared test with Yates' continuity correction\n",
    "\n",
    "data:  rbind(c(220, 352), c(1593, 19))\n",
    "X-squared = 1086.505, df = 1, p-value < 2.2e-16\n",
    "```"
   ]
  },
  {
   "cell_type": "markdown",
   "metadata": {},
   "source": [
    "And we can see for both the computation in Python and R, that the value matches 1086.505 from BigQuery."
   ]
  },
  {
   "cell_type": "markdown",
   "metadata": {},
   "source": [
    "## Analyzing the GWAS results"
   ]
  },
  {
   "cell_type": "markdown",
   "metadata": {},
   "source": [
    "First, how many statistically significant variant positions did we find?"
   ]
  },
  {
   "cell_type": "code",
   "execution_count": 15,
   "metadata": {
    "collapsed": false
   },
   "outputs": [
    {
     "data": {
      "text/html": [
       "\n",
       "    <div class=\"bqtv\" id=\"3_144435445164\"></div>\n",
       "    <br />(rows: 1, time: 0.5s, cached, job: job_LrwWjBy-rCHAGBsE2LpCikoKclA)<br />\n",
       "    <script>\n",
       "      require(['extensions/charting', 'element!3_144435445164', 'style!/static/extensions/charting.css'],\n",
       "        function(charts, dom) {\n",
       "          charts.render(dom,\n",
       "            {\n",
       "              chartStyle:\"table\",\n",
       "              dataName:\"1\",\n",
       "              fields:\"num_significant_snps\",\n",
       "              totalRows:1,\n",
       "              rowsPerPage:25,\n",
       "            }, {}, {\"rows\": [{\"c\": [{\"v\": 224332}]}], \"cols\": [{\"type\": \"number\", \"id\": \"num_significant_snps\", \"label\": \"num_significant_snps\"}]});\n",
       "        }\n",
       "      );\n",
       "    </script>\n",
       "  "
      ],
      "text/plain": []
     },
     "execution_count": 15,
     "metadata": {},
     "output_type": "execute_result"
    }
   ],
   "source": [
    "%%sql \n",
    "SELECT COUNT(*) AS num_significant_snps\n",
    "FROM $results"
   ]
  },
  {
   "cell_type": "markdown",
   "metadata": {},
   "source": [
    "We now have a dataset that is sufficiently small to fit into memory on our instance, so let's pull the top 1000 SNP positions locally. Since we only need a subset of the columns, we can project our data first to remove unneeded columns."
   ]
  },
  {
   "cell_type": "code",
   "execution_count": 16,
   "metadata": {
    "collapsed": false
   },
   "outputs": [],
   "source": [
    "%%sql --module sig_snps_dataset\n",
    "SELECT * FROM (\n",
    "  SELECT\n",
    "    reference_name,\n",
    "    start,\n",
    "    reference_bases,\n",
    "    alternate_bases,\n",
    "    chi_squared_score\n",
    "  FROM $results\n",
    "  LIMIT 1000\n",
    ")\n",
    "ORDER BY start asc"
   ]
  },
  {
   "cell_type": "code",
   "execution_count": 17,
   "metadata": {
    "collapsed": false
   },
   "outputs": [
    {
     "data": {
      "text/html": [
       "<div>\n",
       "<table border=\"1\" class=\"dataframe\">\n",
       "  <thead>\n",
       "    <tr style=\"text-align: right;\">\n",
       "      <th></th>\n",
       "      <th>reference_name</th>\n",
       "      <th>start</th>\n",
       "      <th>reference_bases</th>\n",
       "      <th>alternate_bases</th>\n",
       "      <th>chi_squared_score</th>\n",
       "    </tr>\n",
       "  </thead>\n",
       "  <tbody>\n",
       "    <tr>\n",
       "      <th>0</th>\n",
       "      <td>12</td>\n",
       "      <td>1595431</td>\n",
       "      <td>A</td>\n",
       "      <td>G</td>\n",
       "      <td>744.125</td>\n",
       "    </tr>\n",
       "    <tr>\n",
       "      <th>1</th>\n",
       "      <td>12</td>\n",
       "      <td>1600977</td>\n",
       "      <td>A</td>\n",
       "      <td>T</td>\n",
       "      <td>828.910</td>\n",
       "    </tr>\n",
       "    <tr>\n",
       "      <th>2</th>\n",
       "      <td>12</td>\n",
       "      <td>2129565</td>\n",
       "      <td>C</td>\n",
       "      <td>T</td>\n",
       "      <td>711.515</td>\n",
       "    </tr>\n",
       "    <tr>\n",
       "      <th>3</th>\n",
       "      <td>12</td>\n",
       "      <td>2132494</td>\n",
       "      <td>T</td>\n",
       "      <td>C</td>\n",
       "      <td>753.874</td>\n",
       "    </tr>\n",
       "    <tr>\n",
       "      <th>4</th>\n",
       "      <td>12</td>\n",
       "      <td>2134197</td>\n",
       "      <td>A</td>\n",
       "      <td>G</td>\n",
       "      <td>822.961</td>\n",
       "    </tr>\n",
       "    <tr>\n",
       "      <th>5</th>\n",
       "      <td>12</td>\n",
       "      <td>2138687</td>\n",
       "      <td>C</td>\n",
       "      <td>A</td>\n",
       "      <td>706.309</td>\n",
       "    </tr>\n",
       "    <tr>\n",
       "      <th>6</th>\n",
       "      <td>12</td>\n",
       "      <td>2139264</td>\n",
       "      <td>A</td>\n",
       "      <td>C</td>\n",
       "      <td>769.534</td>\n",
       "    </tr>\n",
       "    <tr>\n",
       "      <th>7</th>\n",
       "      <td>12</td>\n",
       "      <td>2140624</td>\n",
       "      <td>T</td>\n",
       "      <td>C</td>\n",
       "      <td>704.880</td>\n",
       "    </tr>\n",
       "    <tr>\n",
       "      <th>8</th>\n",
       "      <td>12</td>\n",
       "      <td>2141908</td>\n",
       "      <td>C</td>\n",
       "      <td>T</td>\n",
       "      <td>790.150</td>\n",
       "    </tr>\n",
       "    <tr>\n",
       "      <th>9</th>\n",
       "      <td>12</td>\n",
       "      <td>6505528</td>\n",
       "      <td>T</td>\n",
       "      <td>G</td>\n",
       "      <td>768.788</td>\n",
       "    </tr>\n",
       "  </tbody>\n",
       "</table>\n",
       "</div>"
      ],
      "text/plain": [
       "  reference_name    start reference_bases alternate_bases  chi_squared_score\n",
       "0             12  1595431               A               G            744.125\n",
       "1             12  1600977               A               T            828.910\n",
       "2             12  2129565               C               T            711.515\n",
       "3             12  2132494               T               C            753.874\n",
       "4             12  2134197               A               G            822.961\n",
       "5             12  2138687               C               A            706.309\n",
       "6             12  2139264               A               C            769.534\n",
       "7             12  2140624               T               C            704.880\n",
       "8             12  2141908               C               T            790.150\n",
       "9             12  6505528               T               G            768.788"
      ]
     },
     "execution_count": 17,
     "metadata": {},
     "output_type": "execute_result"
    }
   ],
   "source": [
    "sig_snps = bq.Query(sig_snps_dataset, \n",
    "                    results=results,\n",
    "                    grouped_counts=grouped_counts,\n",
    "                    snps=snps,\n",
    "                    exp_groups=exp_groups,\n",
    "                    allele_counts=allele_counts,\n",
    "                    sample_info_table=sample_info_table,\n",
    "                    variants_table=variants_table).to_dataframe()\n",
    "sig_snps[:10]"
   ]
  },
  {
   "cell_type": "markdown",
   "metadata": {},
   "source": [
    "Let's visualize the distribution of significant SNPs along the length of the chromosome. The y-value of the charts indicates the Chi-squared score: larger values are more significant."
   ]
  },
  {
   "cell_type": "code",
   "execution_count": 18,
   "metadata": {
    "collapsed": false
   },
   "outputs": [
    {
     "data": {
      "text/plain": [
       "<matplotlib.text.Text at 0x7f956b1b8f50>"
      ]
     },
     "execution_count": 18,
     "metadata": {},
     "output_type": "execute_result"
    },
    {
     "data": {
      "image/png": "[encoded data removed]",
      "text/plain": [
       "<matplotlib.figure.Figure at 0x7f9540eab890>"
      ]
     },
     "metadata": {},
     "output_type": "display_data"
    }
   ],
   "source": [
    "import matplotlib.pyplot as plt\n",
    "import seaborn as sns\n",
    "\n",
    "#g = sns.distplot(sig_snps['start'], rug=False, hist=False, kde_kws=dict(bw=0.1))\n",
    "fig, ax = plt.subplots()\n",
    "ax.scatter(sig_snps['start'], sig_snps['chi_squared_score'], alpha=0.3, c='red')\n",
    "ax.set_ylabel('Chi-squared score')\n",
    "ax.set_xlabel('SNP position (bp)')"
   ]
  },
  {
   "cell_type": "markdown",
   "metadata": {},
   "source": [
    "Let's zoom in on one region that contains a large number of very significant SNPs:"
   ]
  },
  {
   "cell_type": "code",
   "execution_count": 19,
   "metadata": {
    "collapsed": false
   },
   "outputs": [
    {
     "data": {
      "text/plain": [
       "<matplotlib.text.Text at 0x7f9540de9c50>"
      ]
     },
     "execution_count": 19,
     "metadata": {},
     "output_type": "execute_result"
    },
    {
     "data": {
      "image/png": "[encoded data removed]",
      "text/plain": [
       "<matplotlib.figure.Figure at 0x7f9540e7c650>"
      ]
     },
     "metadata": {},
     "output_type": "display_data"
    }
   ],
   "source": [
    "fig, ax = plt.subplots()\n",
    "ax.scatter(sig_snps['start'], sig_snps['chi_squared_score'], alpha=0.5, c='red')\n",
    "ax.set_xlim([3.3e7, 3.5e7])\n",
    "ax.set_ylabel('Chi-squared score')\n",
    "ax.set_xlabel('SNP position (bp)')"
   ]
  },
  {
   "cell_type": "markdown",
   "metadata": {},
   "source": [
    "## Further exploration of statistically significant variant positions"
   ]
  },
  {
   "cell_type": "markdown",
   "metadata": {},
   "source": [
    "We can take our analysis further by mapping selected variant positions back to the chromosome and visualizing call sets and reads. Let's retrieve the top SNP identified when ranked by the Chi-squared score:"
   ]
  },
  {
   "cell_type": "code",
   "execution_count": 20,
   "metadata": {
    "collapsed": false
   },
   "outputs": [],
   "source": [
    "%%sql --module top_snp\n",
    "SELECT start\n",
    "FROM $sig_snps_dataset\n",
    "ORDER BY chi_squared_score desc\n",
    "LIMIT 1"
   ]
  },
  {
   "cell_type": "code",
   "execution_count": 21,
   "metadata": {
    "collapsed": false
   },
   "outputs": [
    {
     "data": {
      "text/html": [
       "\n",
       "    <div class=\"bqtv\" id=\"4_144435445379\"></div>\n",
       "    <br />(rows: 1, time: 0.5s, cached, job: job_2uTBR9MmYxBWlv4lt3cSdw_dQmM)<br />\n",
       "    <script>\n",
       "      require(['extensions/charting', 'element!4_144435445379', 'style!/static/extensions/charting.css'],\n",
       "        function(charts, dom) {\n",
       "          charts.render(dom,\n",
       "            {\n",
       "              chartStyle:\"table\",\n",
       "              dataName:\"2\",\n",
       "              fields:\"start\",\n",
       "              totalRows:1,\n",
       "              rowsPerPage:25,\n",
       "            }, {}, {\"rows\": [{\"c\": [{\"v\": 110571373}]}], \"cols\": [{\"type\": \"number\", \"id\": \"start\", \"label\": \"start\"}]});\n",
       "        }\n",
       "      );\n",
       "    </script>\n",
       "  "
      ],
      "text/plain": []
     },
     "execution_count": 21,
     "metadata": {},
     "output_type": "execute_result"
    }
   ],
   "source": [
    "bq.Query(top_snp,\n",
    "         sig_snps_dataset=sig_snps_dataset,\n",
    "         results=results,\n",
    "         grouped_counts=grouped_counts,\n",
    "         snps=snps,\n",
    "         exp_groups=exp_groups,\n",
    "         allele_counts=allele_counts,\n",
    "         sample_info_table=sample_info_table,\n",
    "         variants_table=variants_table).results()"
   ]
  },
  {
   "cell_type": "markdown",
   "metadata": {},
   "source": [
    "Grab an arbitrary set of 10 callset IDs for rendering in the genome browser."
   ]
  },
  {
   "cell_type": "code",
   "execution_count": 22,
   "metadata": {
    "collapsed": false
   },
   "outputs": [],
   "source": [
    "%%sql --module callset_ids\n",
    "SELECT * FROM (\n",
    "  SELECT call.call_set_id AS callset_id\n",
    "  FROM $variants_table\n",
    "  GROUP BY callset_id)\n",
    "LIMIT 10"
   ]
  },
  {
   "cell_type": "code",
   "execution_count": 23,
   "metadata": {
    "collapsed": false
   },
   "outputs": [],
   "source": [
    "callsets_df = bq.Query(callset_ids, variants_table=variants_table).to_dataframe()\n",
    "callsets = list(callsets_df['callset_id'])"
   ]
  },
  {
   "cell_type": "code",
   "execution_count": 24,
   "metadata": {
    "collapsed": false
   },
   "outputs": [],
   "source": [
    "from IPython.display import HTML\n",
    "def gabrowse(dataset, reference_name, start_position, callset_ids):\n",
    "    callsets_query_params = ''.join('&callsetId=%s&cBackend=GOOGLE' % callset_id for callset_id in callset_ids)\n",
    "    url = ('https://gabrowse.appspot.com/#=&backend=GOOGLE&location=12%3A'\n",
    "         + str(start_position)\n",
    "         + callsets_query_params)\n",
    "    return HTML('<iframe src=\"%s\" width=1024 height=800></iframe>' % url)"
   ]
  },
  {
   "cell_type": "markdown",
   "metadata": {},
   "source": [
    "Now we can render the call sets and reads for the selected SNP position by embedding the GABrowse application directly in our notebook."
   ]
  },
  {
   "cell_type": "code",
   "execution_count": 25,
   "metadata": {
    "collapsed": false
   },
   "outputs": [
    {
     "data": {
      "text/html": [
       "<iframe src=\"https://gabrowse.appspot.com/#=&backend=GOOGLE&location=12%3A110571373&callsetId=10473108253681171589-121&cBackend=GOOGLE&callsetId=10473108253681171589-333&cBackend=GOOGLE&callsetId=10473108253681171589-584&cBackend=GOOGLE&callsetId=10473108253681171589-675&cBackend=GOOGLE&callsetId=10473108253681171589-734&cBackend=GOOGLE&callsetId=10473108253681171589-919&cBackend=GOOGLE&callsetId=10473108253681171589-1028&cBackend=GOOGLE&callsetId=10473108253681171589-119&cBackend=GOOGLE&callsetId=10473108253681171589-325&cBackend=GOOGLE&callsetId=10473108253681171589-341&cBackend=GOOGLE\" width=1024 height=800></iframe>"
      ],
      "text/plain": [
       "<IPython.core.display.HTML object>"
      ]
     },
     "execution_count": 25,
     "metadata": {},
     "output_type": "execute_result"
    }
   ],
   "source": [
    "gabrowse('1000genomes', '12', 110571373, callsets)"
   ]
  },
  {
   "cell_type": "markdown",
   "metadata": {},
   "source": [
    "# Summary"
   ]
  },
  {
   "cell_type": "markdown",
   "metadata": {},
   "source": [
    "This notebook illustrated how to conduct a GWAS experiment using variant data stored within the Google Genomics BigQuery tables, retrieve a local copy of the top results and visualize the data with Python libraries."
   ]
  }
 ],
 "metadata": {
  "kernelspec": {
   "display_name": "Python 2",
   "language": "python",
   "name": "python2"
  },
  "language_info": {
   "codemirror_mode": {
    "name": "ipython",
    "version": 2
   },
   "file_extension": ".py",
   "mimetype": "text/x-python",
   "name": "python",
   "nbconvert_exporter": "python",
   "pygments_lexer": "ipython2",
   "version": "2.7.9"
  }
 },
 "nbformat": 4,
 "nbformat_minor": 0
}
